{
 "cells": [
  {
   "cell_type": "code",
   "execution_count": 2,
   "id": "86ec5e80-7371-40bc-9cfa-17d5317f47d5",
   "metadata": {},
   "outputs": [],
   "source": [
    "import torch\n",
    "import torch.nn.functional as F\n",
    "from sklearn.datasets import load_wine\n",
    "from sklearn.model_selection import train_test_split\n",
    "import numpy as np\n",
    "import pandas as pd\n",
    "import matplotlib.pyplot as plt"
   ]
  },
  {
   "cell_type": "code",
   "execution_count": 3,
   "id": "9e8cfb18-8768-4f71-9ccc-235b5c1a34dc",
   "metadata": {},
   "outputs": [],
   "source": [
    "data = load_wine()\n",
    "#print(data.DESCR)"
   ]
  },
  {
   "cell_type": "markdown",
   "id": "52f923f4-005c-4b5c-85d0-52476ccc351c",
   "metadata": {},
   "source": [
    "### Dataset"
   ]
  },
  {
   "cell_type": "code",
   "execution_count": 4,
   "id": "d2609a03-2290-4757-b94a-8a5917af60eb",
   "metadata": {},
   "outputs": [],
   "source": [
    "target = F.one_hot(torch.tensor(data.target, dtype=torch.int64), num_classes=3).float()\n",
    "features = torch.tensor(data.data, dtype=torch.float32)\n",
    "train = torch.utils.data.TensorDataset(features, target)\n",
    "#X, y = next(iter(train))"
   ]
  },
  {
   "cell_type": "markdown",
   "id": "798927c1-f79c-4083-be02-1460319f705c",
   "metadata": {},
   "source": [
    "### Training CPU"
   ]
  },
  {
   "cell_type": "code",
   "execution_count": 8,
   "id": "d389386f-3720-442b-bfd9-38698c0f4401",
   "metadata": {},
   "outputs": [],
   "source": [
    "n_epochs = 1000\n",
    "n_features = features.shape[1]\n",
    "n_labels = 3\n",
    "device = torch.device('cuda:0' if torch.cuda.is_available() else 'cpu')\n",
    "\n",
    "\n",
    "train_loader = torch.utils.data.DataLoader(train, batch_size=10, shuffle=True)\n",
    "\n",
    "model = torch.nn.Sequential(\n",
    "    torch.nn.Linear(n_features, 8),\n",
    "    torch.nn.ReLU(),\n",
    "    torch.nn.Linear(8, n_labels),\n",
    "    torch.nn.Softmax(dim=1)\n",
    ").to(device)\n",
    "\n",
    "loss_fn = torch.nn.CrossEntropyLoss()\n",
    "optimizer = torch.optim.Adam(model.parameters(), lr=1e-4)\n",
    "\n",
    "history = {'loss':[]}\n",
    "for epoch in range(n_epochs):\n",
    "    for ib, data in enumerate(train_loader):\n",
    "        X, y = data\n",
    "        X = X.to(device)\n",
    "        y = y.to(device)\n",
    "        pred = model(X)\n",
    "        loss = loss_fn(pred, y)\n",
    "\n",
    "        optimizer.zero_grad()\n",
    "        loss.backward()\n",
    "        optimizer.step()\n",
    "\n",
    "        #if ib % 3 == 0:\n",
    "        #    #loss, current = loss.item(), (id_batch + 1)* len(x_batch)\n",
    "    history['loss'].append(loss.item())\n",
    "            \n",
    "            #print(f\"loss: {loss:>7f}  [{current:>5d}/{dataset_size:>5d}]\")\n",
    "        "
   ]
  },
  {
   "cell_type": "code",
   "execution_count": 9,
   "id": "b7abef00-af9c-4b99-ade4-b6bfc532aaf7",
   "metadata": {},
   "outputs": [
    {
     "data": {
      "text/plain": [
       "[<matplotlib.lines.Line2D at 0x1e24dc25430>]"
      ]
     },
     "execution_count": 9,
     "metadata": {},
     "output_type": "execute_result"
    },
    {
     "data": {
      "image/png": "[encoded data removed]",
      "text/plain": [
       "<Figure size 432x288 with 1 Axes>"
      ]
     },
     "metadata": {
      "needs_background": "light"
     },
     "output_type": "display_data"
    }
   ],
   "source": [
    "plt.semilogy(history['loss'])"
   ]
  },
  {
   "cell_type": "code",
   "execution_count": null,
   "id": "a6d3eac4-499e-47c7-b6b4-3266811bd32c",
   "metadata": {},
   "outputs": [],
   "source": []
  },
  {
   "cell_type": "code",
   "execution_count": null,
   "id": "5407042d-483d-40ff-8d06-7c389824058a",
   "metadata": {},
   "outputs": [],
   "source": []
  },
  {
   "cell_type": "code",
   "execution_count": null,
   "id": "295ebe50-c8af-4631-94b1-1acb9a2f1e38",
   "metadata": {},
   "outputs": [],
   "source": []
  },
  {
   "cell_type": "code",
   "execution_count": null,
   "id": "17e45fea-8b3d-48f2-9a7f-fcdd9b3dc8bd",
   "metadata": {},
   "outputs": [],
   "source": []
  },
  {
   "cell_type": "code",
   "execution_count": null,
   "id": "4ef884db-e51f-499d-98eb-a72afb25dc81",
   "metadata": {},
   "outputs": [],
   "source": []
  },
  {
   "cell_type": "code",
   "execution_count": null,
   "id": "08c33f97-45b5-490f-9126-89e9e35d45f2",
   "metadata": {},
   "outputs": [],
   "source": []
  },
  {
   "cell_type": "code",
   "execution_count": null,
   "id": "3ebe7d40-a2cd-46a4-9cc5-c6522646822c",
   "metadata": {},
   "outputs": [],
   "source": []
  },
  {
   "cell_type": "code",
   "execution_count": null,
   "id": "04163bec-ed1b-466a-8977-c23cf4bfe105",
   "metadata": {},
   "outputs": [],
   "source": []
  },
  {
   "cell_type": "code",
   "execution_count": null,
   "id": "a5b272a0-3479-4369-b278-fe36ad32bbc9",
   "metadata": {},
   "outputs": [],
   "source": []
  },
  {
   "cell_type": "code",
   "execution_count": null,
   "id": "3bcda771-9e60-4268-bb51-7ea25ee022bd",
   "metadata": {},
   "outputs": [],
   "source": []
  },
  {
   "cell_type": "code",
   "execution_count": null,
   "id": "569815e5-f528-4773-b263-a2dcf1d3566c",
   "metadata": {},
   "outputs": [],
   "source": []
  },
  {
   "cell_type": "code",
   "execution_count": null,
   "id": "0849c8b1-319b-4033-80c6-103a3da46f81",
   "metadata": {},
   "outputs": [],
   "source": []
  },
  {
   "cell_type": "markdown",
   "id": "137c9572-4a49-4da0-8363-2d1f53f6be5d",
   "metadata": {},
   "source": [
    "### For the future"
   ]
  },
  {
   "cell_type": "code",
   "execution_count": 101,
   "id": "1df9b651-de36-4dd7-aedf-f5b62d8e0983",
   "metadata": {},
   "outputs": [],
   "source": [
    "df = pd.DataFrame({\"data\":list(data.data), \"labels\":data.target})\n",
    "df.to_pickle('./torch_data/df.pkl')\n",
    "#df.head()"
   ]
  },
  {
   "cell_type": "code",
   "execution_count": null,
   "id": "22e5b004-a226-47f3-bdf5-4cd1b38ea608",
   "metadata": {},
   "outputs": [],
   "source": [
    "tor"
   ]
  },
  {
   "cell_type": "code",
   "execution_count": 56,
   "id": "714fc523-827c-4683-9016-fb5d7324678f",
   "metadata": {},
   "outputs": [],
   "source": [
    "#X_train, X_test, y_train, y_test = train_test_split(data.data, data.target, test_size=0.20, random_state=42)\n",
    "#df_train = pd.DataFrame({\"data\":list(X_train), \"labels\":y_train})\n",
    "#df_test = pd.DataFrame({\"data\":list(X_test), \"labels\":y_test})\n",
    "#df_train.to_pickle('./torch_data/train_batch.pkl')\n",
    "#df_test.to_pickle('./torch_data/test_batch.pkl')"
   ]
  },
  {
   "cell_type": "code",
   "execution_count": 85,
   "id": "c436238e-9d89-4e6f-a44e-ee921aebfd8a",
   "metadata": {},
   "outputs": [],
   "source": [
    "#data.label0 = data.data[data.target == 0]\n",
    "#data.label1 = data.data[data.target == 1]\n",
    "#data.label2 = data.data[data.target == 2]\n",
    "#len(data.label0), len(data.label1), len(data.label2), len(data.data)"
   ]
  },
  {
   "cell_type": "code",
   "execution_count": 78,
   "id": "a33b50b9-05b1-40cf-ac7d-7b3e7ffc8cbc",
   "metadata": {},
   "outputs": [],
   "source": [
    "#df_label0 = pd.DataFrame({\"data\":list(data.label0), \"labels\":np.ones(len(data.label0))*0 + 0})\n",
    "#df_label1 = pd.DataFrame({\"data\":list(data.label1), \"labels\":np.ones(len(data.label1))*0 + 1})\n",
    "#df_label2 = pd.DataFrame({\"data\":list(data.label2), \"labels\":np.ones(len(data.label2))*0 + 2})"
   ]
  },
  {
   "cell_type": "code",
   "execution_count": 84,
   "id": "46be91d9-e969-4a88-b083-165b6547aa33",
   "metadata": {},
   "outputs": [],
   "source": [
    "#df_label0.to_pickle('./torch_data/id-0.pkl')\n",
    "#df_label1.to_pickle('./torch_data/id-1.pkl')\n",
    "#df_label2.to_pickle('./torch_data/id-2.pkl')"
   ]
  },
  {
   "cell_type": "markdown",
   "id": "2c028dc9-efd8-4b5a-b0b4-8a8bd5552d90",
   "metadata": {},
   "source": [
    "### Create Dataset"
   ]
  },
  {
   "cell_type": "code",
   "execution_count": null,
   "id": "ce627678-8481-4084-94dd-e77bf6295208",
   "metadata": {},
   "outputs": [],
   "source": [
    "train = data_utils.TensorDataset(features, target)\n",
    "train_loader = data_utils.DataLoader(train, batch_size=10, shuffle=True)"
   ]
  },
  {
   "cell_type": "code",
   "execution_count": null,
   "id": "207c0327-9732-48de-a787-677769c5b480",
   "metadata": {},
   "outputs": [],
   "source": []
  },
  {
   "cell_type": "code",
   "execution_count": null,
   "id": "eabbb3c9-6ccf-4ced-864d-8ad0f21d0851",
   "metadata": {},
   "outputs": [],
   "source": [
    "class MyDataset(Dataset):\n",
    " \n",
    "  def __init__(self, ):\n",
    "    #df=pd.read_csv(file_name)\n",
    " \n",
    "    X=price_df.iloc[:,0:8].values\n",
    "    y=price_df.iloc[:,8].values\n",
    " \n",
    "    self.X=torch.tensor(X,dtype=torch.float32)\n",
    "    self.y=torch.tensor(y,dtype=torch.float32)\n",
    " \n",
    "  def __len__(self):\n",
    "    return len(self.y_train)\n",
    "   \n",
    "  def __getitem__(self,idx):\n",
    "    return self.x_train[idx],self.y_train[idx]"
   ]
  },
  {
   "cell_type": "code",
   "execution_count": null,
   "id": "eac08d89-dab8-42e7-b3f1-b744972dff1a",
   "metadata": {},
   "outputs": [],
   "source": []
  },
  {
   "cell_type": "code",
   "execution_count": null,
   "id": "69e981c6-b8df-4a86-b0de-cd9998d9317e",
   "metadata": {},
   "outputs": [],
   "source": []
  },
  {
   "cell_type": "code",
   "execution_count": null,
   "id": "720bdc56-34d3-4293-be44-c21e19951a85",
   "metadata": {},
   "outputs": [],
   "source": []
  },
  {
   "cell_type": "markdown",
   "id": "20dc97cc-fe58-4faf-9418-4dde5e9a5ec3",
   "metadata": {},
   "source": [
    "### For the future"
   ]
  },
  {
   "cell_type": "markdown",
   "id": "a7580fad-6b27-4f82-9173-afd0c12b8ed3",
   "metadata": {},
   "source": [
    "read: https://github.com/shervinea/pytorch-data-generator/blob/master/pytorch_script.py"
   ]
  },
  {
   "cell_type": "code",
   "execution_count": 86,
   "id": "893b317e-1308-48c4-a7c2-d8fa72944b11",
   "metadata": {},
   "outputs": [],
   "source": [
    "# class Dataset(torch.utils.data.Dataset):\n",
    "#     #'Characterizes a dataset for PyTorch'\n",
    "#     def __init__(self, list_IDs) -> None:\n",
    "#         'Initialization'\n",
    "#         super().__init__()\n",
    "#         self.list_IDs = list_IDs# [fname]\n",
    "                \n",
    "#     def __len__(self):\n",
    "#         'Denotes the total number of samples'\n",
    "#         return len(self.list_IDs)\n",
    "    \n",
    "#     def __getitem__(self, index):\n",
    "#         'Generates one sample of data'\n",
    "#         # Select sample\n",
    "#         fname = self.list_IDs[index]\n",
    "        \n",
    "#         # Load data and get label\n",
    "#         data = torch.load('torch_data/' + fname + '.pkl')\n",
    "#         X = data.data\n",
    "#         y = data.labels\n",
    "        \n",
    "#         return X, y"
   ]
  },
  {
   "cell_type": "code",
   "execution_count": 87,
   "id": "1a45e25b-f29d-4ac1-809b-8d4b8d0e35b6",
   "metadata": {},
   "outputs": [],
   "source": [
    "# # Datasets\n",
    "# data = {'train': ['id-1', 'id-2', 'id-3']} # IDs\n",
    "# labels = {'id-1': 0, 'id-2': 1, 'id-3': 2} # Labels"
   ]
  },
  {
   "cell_type": "code",
   "execution_count": 91,
   "id": "c5e17f14-0aff-4899-8116-df6e22e29375",
   "metadata": {},
   "outputs": [],
   "source": [
    "# X = torch.load('torch_data/' + ID + '.pkl')"
   ]
  },
  {
   "cell_type": "code",
   "execution_count": 90,
   "id": "1ccc80c9-ccab-4270-8332-43bd9a47739e",
   "metadata": {},
   "outputs": [],
   "source": [
    "# # CUDA for PyTorch\n",
    "# device = torch.device(\"cuda:0\" if torch.cuda.is_available() else \"cpu\")\n",
    "# cudnn.benchmark = True\n",
    "\n",
    "# # Parameters\n",
    "# params = {'batch_size': 1, 'shuffle': True, 'num_workers': 6}\n",
    "# max_epochs = 100\n",
    "\n",
    "# # Datasets\n",
    "# partition = {'train': ['id-1', 'id-2', 'id-3'], 'validation': ['id-4']} # IDs\n",
    "# labels = {'id-1': 0, 'id-2': 1, 'id-3': 2, 'id-4': 1} # Labels\n",
    "\n",
    "# # Generators\n",
    "# training_set = Dataset(partition['train'], labels)\n",
    "# training_generator = data.DataLoader(training_set, **params)\n",
    "\n",
    "# validation_set = Dataset(partition['validation'], labels)\n",
    "# validation_generator = data.DataLoader(validation_set, **params)"
   ]
  },
  {
   "cell_type": "code",
   "execution_count": 92,
   "id": "d09c67f4-3b3d-497a-915c-53a5bee8a6f9",
   "metadata": {},
   "outputs": [],
   "source": [
    "# # Loop over epochs\n",
    "# for epoch in range(max_epochs):\n",
    "#     # Training\n",
    "#     for local_batch, local_labels in training_generator:\n",
    "#         # Transfer to GPU\n",
    "#         local_batch, local_labels = local_batch.to(device), local_labels.to(device)\n",
    "\n",
    "#         # Model computations\n",
    "#         [...]\n",
    "\n",
    "#     # Validation\n",
    "#     with torch.set_grad_enabled(False):\n",
    "#         for local_batch, local_labels in validation_generator:\n",
    "#             # Transfer to GPU\n",
    "#             local_batch, local_labels = local_batch.to(device), local_labels.to(device)\n",
    "\n",
    "#             # Model computations\n",
    "#             [...]"
   ]
  }
 ],
 "metadata": {
  "kernelspec": {
   "display_name": "Python 3 (ipykernel)",
   "language": "python",
   "name": "python3"
  },
  "language_info": {
   "codemirror_mode": {
    "name": "ipython",
    "version": 3
   },
   "file_extension": ".py",
   "mimetype": "text/x-python",
   "name": "python",
   "nbconvert_exporter": "python",
   "pygments_lexer": "ipython3",
   "version": "3.9.12"
  }
 },
 "nbformat": 4,
 "nbformat_minor": 5
}
